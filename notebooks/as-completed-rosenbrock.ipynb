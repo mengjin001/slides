{
 "cells": [
  {
   "cell_type": "code",
   "execution_count": null,
   "metadata": {
    "collapsed": true
   },
   "outputs": [],
   "source": [
    "from dask.distributed import Client, as_completed\n",
    "import time\n",
    "import random"
   ]
  },
  {
   "cell_type": "code",
   "execution_count": null,
   "metadata": {
    "collapsed": false
   },
   "outputs": [],
   "source": [
    "client = Client('localhost:8786', timeout=1000)\n",
    "client"
   ]
  },
  {
   "cell_type": "markdown",
   "metadata": {},
   "source": [
    "<img src=\"https://upload.wikimedia.org/wikipedia/commons/thumb/3/32/Rosenbrock_function.svg/300px-Rosenbrock_function.svg.png\" align=\"right\">\n",
    "\n",
    "### Rosenbrock function\n",
    "\n",
    "(sorry for the Jet colormap)"
   ]
  },
  {
   "cell_type": "code",
   "execution_count": null,
   "metadata": {
    "collapsed": false
   },
   "outputs": [],
   "source": [
    "def rosenbrock(point):\n",
    "    \"\"\"Compute the rosenbrock function and return the point and result\"\"\"\n",
    "    time.sleep(0.1)\n",
    "    score = (1 - point[0])**2 + 2 * (point[1] - point[0]**2)**2\n",
    "    return point, score\n",
    "\n",
    "\n",
    "scale = 5                  # Intial random perturbation scale\n",
    "best_point = (1, 2)        # Best point so far\n",
    "best_score = float('inf')  # Best score so far\n",
    "\n",
    "# Initially just pick some random points to evaluate\n",
    "initial = [(random.uniform(-5, -5), random.uniform(-5, 5))\n",
    "           for i in range(10)]"
   ]
  },
  {
   "cell_type": "code",
   "execution_count": null,
   "metadata": {
    "collapsed": false
   },
   "outputs": [],
   "source": [
    "futures = [client.submit(rosenbrock, point) for point in initial]\n",
    "\n",
    "running = as_completed(futures)\n",
    "\n",
    "for res in running:\n",
    "    point, score = res.result()\n",
    "    if score < best_score:\n",
    "        best_score, best_point = score, point\n",
    "        print(\"Current best (%.3f, %.3f).\"\n",
    "              \"Scale: %.3f\" % (best_point + (scale,)))\n",
    "    \n",
    "    x, y = best_point\n",
    "    new_point =  (x + random.uniform(-scale, scale),\n",
    "                  y + random.uniform(-scale, scale))\n",
    "    new_point = client.submit(rosenbrock, new_point)\n",
    "                                           \n",
    "    running.add(new_point)\n",
    "    \n",
    "    scale *= 0.99\n",
    "\n",
    "    if scale < 0.001:\n",
    "        break"
   ]
  },
  {
   "cell_type": "code",
   "execution_count": null,
   "metadata": {
    "collapsed": true
   },
   "outputs": [],
   "source": []
  },
  {
   "cell_type": "code",
   "execution_count": null,
   "metadata": {
    "collapsed": true
   },
   "outputs": [],
   "source": []
  }
 ],
 "metadata": {
  "kernelspec": {
   "display_name": "Python 3",
   "language": "python",
   "name": "python3"
  },
  "language_info": {
   "codemirror_mode": {
    "name": "ipython",
    "version": 3
   },
   "file_extension": ".py",
   "mimetype": "text/x-python",
   "name": "python",
   "nbconvert_exporter": "python",
   "pygments_lexer": "ipython3",
   "version": "3.6.0"
  }
 },
 "nbformat": 4,
 "nbformat_minor": 2
}
